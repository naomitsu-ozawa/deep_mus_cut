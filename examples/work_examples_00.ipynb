{
 "cells": [
  {
   "cell_type": "code",
   "execution_count": null,
   "metadata": {},
   "outputs": [],
   "source": [
    "import os\n",
    "import glob\n",
    "import shutil\n",
    "from tqdm import tqdm\n",
    "\n",
    "import sh\n",
    "\n",
    "import platform\n",
    "\n",
    "os_name = platform.system()\n",
    "this_dir_path = os.getcwd()\n",
    "work_dir_path = \"/home/idm-kurume/ghq/github.com/naomitsu-ozawa/deep_mus_cut\"\n",
    "\n",
    "os.chdir(work_dir_path)\n",
    "print(os.getcwd())\n"
   ]
  },
  {
   "cell_type": "code",
   "execution_count": 10,
   "metadata": {},
   "outputs": [],
   "source": [
    "import os\n",
    "\n",
    "def get_nested_subdirectories(root_dir):\n",
    "    nested_subdirs = []\n",
    "    # 指定したディレクトリ内のサブディレクトリを走査\n",
    "    for subdir in os.listdir(root_dir):\n",
    "        subdir_path = os.path.join(root_dir, subdir)\n",
    "        if os.path.isdir(subdir_path):\n",
    "            # サブディレクトリの中にあるさらにサブディレクトリを探す\n",
    "            for nested_subdir in os.listdir(subdir_path):\n",
    "                nested_subdir_path = os.path.join(subdir_path, nested_subdir)\n",
    "                if os.path.isdir(nested_subdir_path):\n",
    "                    nested_subdirs.append(nested_subdir_path)\n",
    "    return nested_subdirs\n"
   ]
  },
  {
   "cell_type": "code",
   "execution_count": 19,
   "metadata": {},
   "outputs": [],
   "source": [
    "def main(nested_directories, num_items, pint):\n",
    "\n",
    "    for tagetFolder in nested_directories:\n",
    "        print(tagetFolder)\n",
    "        exe_python = f\"python batcher_para_test.py -f {tagetFolder} -n {num_items} -p {pint} -nw 5\"\n",
    "        os.system(exe_python)\n",
    "\n",
    "        !echo 'animal001' | sudo -S sh clear_mem_cache.sh\n",
    "        print(\"memory purge\")\n",
    "\n",
    "    print(\"all done\")\n",
    "\n",
    "\n"
   ]
  },
  {
   "cell_type": "code",
   "execution_count": null,
   "metadata": {},
   "outputs": [],
   "source": [
    "# 使用例\n",
    "root_directory = \"/media/idm-kurume/ex_ssd/ex_ssd/project_MYZ/formjudge/sex_test/test\"\n",
    "nested_directories = get_nested_subdirectories(root_directory)\n",
    "print(nested_directories)\n",
    "\n",
    "num_items = 150\n",
    "\n",
    "pint = 1000\n",
    "\n",
    "main(nested_directories, num_items, pint)"
   ]
  },
  {
   "cell_type": "code",
   "execution_count": null,
   "metadata": {},
   "outputs": [],
   "source": []
  }
 ],
 "metadata": {
  "kernelspec": {
   "display_name": "ml",
   "language": "python",
   "name": "python3"
  },
  "language_info": {
   "codemirror_mode": {
    "name": "ipython",
    "version": 3
   },
   "file_extension": ".py",
   "mimetype": "text/x-python",
   "name": "python",
   "nbconvert_exporter": "python",
   "pygments_lexer": "ipython3",
   "version": "3.11.0"
  },
  "orig_nbformat": 4
 },
 "nbformat": 4,
 "nbformat_minor": 2
}
